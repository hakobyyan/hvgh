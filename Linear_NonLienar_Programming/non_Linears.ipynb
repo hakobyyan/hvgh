{
 "cells": [
  {
   "metadata": {
    "ExecuteTime": {
     "end_time": "2025-04-01T07:40:10.189872Z",
     "start_time": "2025-04-01T07:40:08.830573Z"
    }
   },
   "cell_type": "code",
   "source": [
    "import sympy as sp\n",
    "from sympy import printing"
   ],
   "id": "5fbe04f984e64af1",
   "outputs": [],
   "execution_count": 1
  },
  {
   "metadata": {
    "ExecuteTime": {
     "end_time": "2025-04-01T07:40:19.683280Z",
     "start_time": "2025-04-01T07:40:19.669029Z"
    }
   },
   "cell_type": "code",
   "source": [
    "# Function to compute derivatives\n",
    "def compute_derivatives(function_expr, variables, lagrange=False):\n",
    "    print(\"\\n🔹 First degree partial derivatives:\")\n",
    "    first_order_derivatives = {var: sp.diff(function_expr, var) for var in variables}\n",
    "    for var, deriv in first_order_derivatives.items():\n",
    "        if lagrange:\n",
    "            print(f\"∂L/∂{printing.pretty(var)} = {printing.pretty(deriv)}\")\n",
    "        else:\n",
    "            print(f\"∂I/∂{printing.pretty(var)} = {printing.pretty(deriv)}\")\n",
    "\n",
    "    if not lagrange:\n",
    "        # Compute and print second-order partial derivatives\n",
    "        print(\"\\n🔹 Second degree partial derivatives:\")\n",
    "        second_order_derivatives = {}\n",
    "        for var1 in variables:\n",
    "            for var2 in variables:\n",
    "                second_order_derivatives[(var1, var2)] = sp.diff(first_order_derivatives[var1], var2)\n",
    "\n",
    "        for (var1, var2), deriv in second_order_derivatives.items():\n",
    "            print(f\"∂²I/∂{printing.pretty(var1)}{printing.pretty(var2)} = {printing.pretty(deriv)}\")\n",
    "\n",
    "        print(\"\\n🔹 Matrix Determinants:\")\n",
    "        hessian_matrix = sp.Matrix([[second_order_derivatives[(var1, var2)] for var2 in variables] for var1 in variables])\n",
    "        hessian_determinants = []\n",
    "\n",
    "        for i in range(1, len(variables) + 1):\n",
    "            det_value = hessian_matrix[:i, :i].det()\n",
    "            hessian_determinants.append(det_value)\n",
    "            print(f\"Det({i}) = {det_value}\")\n",
    "\n",
    "        # Function type detection\n",
    "        print(\"\\n🔹 Function Type:\")\n",
    "        if all(det > 0 for det in hessian_determinants):\n",
    "            print(\"I -> inf.\")\n",
    "            return False  # Convex function -> minimization\n",
    "        elif all((det < 0 if i % 2 == 0 else det >= 0) for i, det in enumerate(hessian_determinants)):\n",
    "            print(\"I -> sup.\")\n",
    "            return True  # Concave function -> maximization\n",
    "        else:\n",
    "            print(\"The function is neither sup nor inf.\")\n",
    "            return None\n",
    "    else:\n",
    "        return first_order_derivatives"
   ],
   "id": "b37ee5fa7bd47b4f",
   "outputs": [],
   "execution_count": 2
  },
  {
   "metadata": {
    "ExecuteTime": {
     "end_time": "2025-04-01T07:40:20.249393Z",
     "start_time": "2025-04-01T07:40:20.233557Z"
    }
   },
   "cell_type": "code",
   "source": [
    "# Function to create the Lagrange function\n",
    "def create_lagrange(objective, restrictions, type, variables):\n",
    "    new_res = []\n",
    "    rest = []\n",
    "\n",
    "    # Process the restrictions (keep equalities intact)\n",
    "    for restriction in restrictions:\n",
    "        if isinstance(restriction, sp.Rel):  # Check if the restriction is a valid relational expression\n",
    "            sign = restriction.rel_op\n",
    "            if sign == '==':\n",
    "                rest.append(restriction)  # Keep equality as is\n",
    "            elif sign == '<=':\n",
    "                rest.append(restriction.rhs >= restriction.lhs)  # Convert <= to >=\n",
    "            elif sign == '>=':\n",
    "                rest.append(restriction.rhs <= restriction.lhs)  # Convert >= to <=\n",
    "        else:\n",
    "            print(f\"Invalid restriction: {restriction}\")\n",
    "            rest.append(restriction)  # Keep invalid restrictions as is\n",
    "\n",
    "    for restriction in rest:\n",
    "        lhs, rhs, sign = restriction.lhs, restriction.rhs, restriction.rel_op\n",
    "        if (sign == '<=' and type == True) or (sign == '>=' and type == False):\n",
    "            new_res.append(rhs - lhs)\n",
    "        elif (sign == '>=' and type == True) or (sign == '<=' and type == False):\n",
    "            new_res.append(lhs - rhs)\n",
    "        elif sign == '==':\n",
    "            new_res.append(rhs - lhs)\n",
    "\n",
    "    lambdas = [sp.symbols(f'λ{i+1}') for i in range(len(new_res))]\n",
    "    lagrange = sum(lambdas[i] * new_res[i] for i in range(len(new_res))) + objective\n",
    "\n",
    "    print(\"\\n🔹 Lagrange Function:\")\n",
    "    print(f\"L{variables + lambdas} = {lagrange}\")\n",
    "    derives = compute_derivatives(lagrange, variables + lambdas, lagrange=True)\n",
    "\n",
    "    index = 0\n",
    "    print(\"\\n🔹 Necessary and sufficient conditions:\")\n",
    "    for var, derive in derives.items():\n",
    "        if var in variables:\n",
    "            if rest[index].rel_op == '<=' and type or rest[index].rel_op == '>=' and not type:\n",
    "                print(f\"{printing.pretty(derive)} >= 0      {printing.pretty(var)}({printing.pretty(derive)}) = 0\")\n",
    "            else:\n",
    "                print(f\"{printing.pretty(derive)} <= 0      {printing.pretty(var)}({printing.pretty(derive)}) = 0\")\n",
    "        else:\n",
    "            if rest[index].rel_op == '<=' and type or rest[index].rel_op == '>=' and not type:\n",
    "                print(f\"{printing.pretty(derive)} <= 0      {printing.pretty(var)}({printing.pretty(derive)}) = 0\")\n",
    "            elif rest[index].rel_op == '>=' and type or rest[index].rel_op == '<=' and not type:\n",
    "                print(f\"{printing.pretty(derive)} >= 0      {printing.pretty(var)}({printing.pretty(derive)}) = 0\")\n",
    "            else:\n",
    "                print(f\"{printing.pretty(derive)} = 0      {printing.pretty(var)}({printing.pretty(derive)}) = 0\")\n",
    "            index += 1"
   ],
   "id": "35e691fd569f0c3a",
   "outputs": [],
   "execution_count": 3
  },
  {
   "metadata": {},
   "cell_type": "markdown",
   "source": "## 1",
   "id": "85a6a711cc02485e"
  },
  {
   "metadata": {
    "ExecuteTime": {
     "end_time": "2025-04-01T07:40:21.439341Z",
     "start_time": "2025-04-01T07:40:20.822366Z"
    }
   },
   "cell_type": "code",
   "source": [
    "# Define variables\n",
    "x1, x2 = sp.symbols('x1 x2')\n",
    "# Define the function (Example Function)\n",
    "f = 8*x1 - x1**2 + 4*x2 - x2**2\n",
    "restrictions = [x1 + x2 <= 2]\n",
    "print(\"\\n🔹 Function and restrictions:\")\n",
    "print(f\"I = {f} -> extr\")\n",
    "for rest in restrictions:\n",
    "    print(f\"\\t{printing.pretty(rest)}\")\n",
    "for var in [x1, x2]:\n",
    "    print(f\"{printing.pretty(var)} >= 0\", end=\", \")\n",
    "print(\"\")\n",
    "# Compute derivatives\n",
    "type = compute_derivatives(f, [x1, x2])\n",
    "# Create Lagrange function\n",
    "derivatives = create_lagrange(f, restrictions, type, [x1, x2])"
   ],
   "id": "d40da8faf51c7626",
   "outputs": [
    {
     "name": "stdout",
     "output_type": "stream",
     "text": [
      "\n",
      "🔹 Function and restrictions:\n",
      "I = -x1**2 + 8*x1 - x2**2 + 4*x2 -> extr\n",
      "\tx₁ + x₂ ≤ 2\n",
      "x₁ >= 0, x₂ >= 0, \n",
      "\n",
      "🔹 First degree partial derivatives:\n",
      "∂I/∂x₁ = 8 - 2⋅x₁\n",
      "∂I/∂x₂ = 4 - 2⋅x₂\n",
      "\n",
      "🔹 Second degree partial derivatives:\n",
      "∂²I/∂x₁x₁ = -2\n",
      "∂²I/∂x₁x₂ = 0\n",
      "∂²I/∂x₂x₁ = 0\n",
      "∂²I/∂x₂x₂ = -2\n",
      "\n",
      "🔹 Matrix Determinants:\n",
      "Det(1) = -2\n",
      "Det(2) = 4\n",
      "\n",
      "🔹 Function Type:\n",
      "I -> sup.\n",
      "\n",
      "🔹 Lagrange Function:\n",
      "L[x1, x2, λ1] = -x1**2 + 8*x1 - x2**2 + 4*x2 + λ1*(-x1 - x2 + 2)\n",
      "\n",
      "🔹 First degree partial derivatives:\n",
      "∂L/∂x₁ = -2⋅x₁ - λ₁ + 8\n",
      "∂L/∂x₂ = -2⋅x₂ - λ₁ + 4\n",
      "∂L/∂λ₁ = -x₁ - x₂ + 2\n",
      "\n",
      "🔹 Necessary and sufficient conditions:\n",
      "-2⋅x₁ - λ₁ + 8 <= 0      x₁(-2⋅x₁ - λ₁ + 8) = 0\n",
      "-2⋅x₂ - λ₁ + 4 <= 0      x₂(-2⋅x₂ - λ₁ + 4) = 0\n",
      "-x₁ - x₂ + 2 >= 0      λ₁(-x₁ - x₂ + 2) = 0\n"
     ]
    }
   ],
   "execution_count": 4
  },
  {
   "metadata": {},
   "cell_type": "markdown",
   "source": "## 2",
   "id": "bb3605271ef8e083"
  },
  {
   "metadata": {
    "ExecuteTime": {
     "end_time": "2025-04-01T07:40:21.665687Z",
     "start_time": "2025-04-01T07:40:21.600517Z"
    }
   },
   "cell_type": "code",
   "source": [
    "# Define variables\n",
    "x1, x2 = sp.symbols('x1 x2')\n",
    "# Define the function (Example Function)\n",
    "f = (x1 - 1)**2 + (x2 - 2)**2 - 3*(x1 + x2)\n",
    "restrictions = [4*x1 + x2 <= 20,\n",
    "                x1 + 4*x2 <= 20]\n",
    "print(\"\\n🔹 Function and restrictions:\")\n",
    "print(f\"I = {f} -> extr\")\n",
    "for rest in restrictions:\n",
    "    print(f\"\\t{rest}\")\n",
    "for var in [x1, x2]:\n",
    "    print(f\"{var} >= 0\", end=\", \")\n",
    "print(\"\")\n",
    "# Compute derivatives\n",
    "type = compute_derivatives(f, [x1, x2])\n",
    "# Create Lagrange function\n",
    "create_lagrange(f, restrictions, type, [x1, x2])"
   ],
   "id": "a9436cb8c1596e24",
   "outputs": [
    {
     "name": "stdout",
     "output_type": "stream",
     "text": [
      "\n",
      "🔹 Function and restrictions:\n",
      "I = -3*x1 - 3*x2 + (x1 - 1)**2 + (x2 - 2)**2 -> extr\n",
      "\t4*x1 + x2 <= 20\n",
      "\tx1 + 4*x2 <= 20\n",
      "x1 >= 0, x2 >= 0, \n",
      "\n",
      "🔹 First degree partial derivatives:\n",
      "∂I/∂x₁ = 2⋅x₁ - 5\n",
      "∂I/∂x₂ = 2⋅x₂ - 7\n",
      "\n",
      "🔹 Second degree partial derivatives:\n",
      "∂²I/∂x₁x₁ = 2\n",
      "∂²I/∂x₁x₂ = 0\n",
      "∂²I/∂x₂x₁ = 0\n",
      "∂²I/∂x₂x₂ = 2\n",
      "\n",
      "🔹 Matrix Determinants:\n",
      "Det(1) = 2\n",
      "Det(2) = 4\n",
      "\n",
      "🔹 Function Type:\n",
      "I -> inf.\n",
      "\n",
      "🔹 Lagrange Function:\n",
      "L[x1, x2, λ1, λ2] = -3*x1 - 3*x2 + λ1*(4*x1 + x2 - 20) + λ2*(x1 + 4*x2 - 20) + (x1 - 1)**2 + (x2 - 2)**2\n",
      "\n",
      "🔹 First degree partial derivatives:\n",
      "∂L/∂x₁ = 2⋅x₁ + 4⋅λ₁ + λ₂ - 5\n",
      "∂L/∂x₂ = 2⋅x₂ + λ₁ + 4⋅λ₂ - 7\n",
      "∂L/∂λ₁ = 4⋅x₁ + x₂ - 20\n",
      "∂L/∂λ₂ = x₁ + 4⋅x₂ - 20\n",
      "\n",
      "🔹 Necessary and sufficient conditions:\n",
      "2⋅x₁ + 4⋅λ₁ + λ₂ - 5 >= 0      x₁(2⋅x₁ + 4⋅λ₁ + λ₂ - 5) = 0\n",
      "2⋅x₂ + λ₁ + 4⋅λ₂ - 7 >= 0      x₂(2⋅x₂ + λ₁ + 4⋅λ₂ - 7) = 0\n",
      "4⋅x₁ + x₂ - 20 <= 0      λ₁(4⋅x₁ + x₂ - 20) = 0\n",
      "x₁ + 4⋅x₂ - 20 <= 0      λ₂(x₁ + 4⋅x₂ - 20) = 0\n"
     ]
    }
   ],
   "execution_count": 5
  },
  {
   "metadata": {},
   "cell_type": "markdown",
   "source": "## 3",
   "id": "1930867af660e98c"
  },
  {
   "metadata": {
    "ExecuteTime": {
     "end_time": "2025-04-01T07:40:21.859593Z",
     "start_time": "2025-04-01T07:40:21.803432Z"
    }
   },
   "cell_type": "code",
   "source": [
    "# Define variables\n",
    "x1, x2 = sp.symbols('x1 x2')\n",
    "# Define the function (Example Function)\n",
    "f = 2*(x1**2) - 3*x1*x2 + 2*(x2**2) + 5*x1 - 6*x2\n",
    "restrictions = [x1 - x2 >= 6,\n",
    "                2*x1 + x2 >= 15]\n",
    "print(\"\\n🔹 Function and restrictions:\")\n",
    "print(f\"I = {f} -> extr\")\n",
    "for rest in restrictions:\n",
    "    print(f\"\\t{rest}\")\n",
    "for var in [x1, x2]:\n",
    "    print(f\"{var} >= 0\", end=\", \")\n",
    "print(\"\")\n",
    "# Compute derivatives\n",
    "type = compute_derivatives(f, [x1, x2])\n",
    "# Create Lagrange function\n",
    "create_lagrange(f, restrictions, type, [x1, x2])"
   ],
   "id": "ee503e5a939f305c",
   "outputs": [
    {
     "name": "stdout",
     "output_type": "stream",
     "text": [
      "\n",
      "🔹 Function and restrictions:\n",
      "I = 2*x1**2 - 3*x1*x2 + 5*x1 + 2*x2**2 - 6*x2 -> extr\n",
      "\tx1 - x2 >= 6\n",
      "\t2*x1 + x2 >= 15\n",
      "x1 >= 0, x2 >= 0, \n",
      "\n",
      "🔹 First degree partial derivatives:\n",
      "∂I/∂x₁ = 4⋅x₁ - 3⋅x₂ + 5\n",
      "∂I/∂x₂ = -3⋅x₁ + 4⋅x₂ - 6\n",
      "\n",
      "🔹 Second degree partial derivatives:\n",
      "∂²I/∂x₁x₁ = 4\n",
      "∂²I/∂x₁x₂ = -3\n",
      "∂²I/∂x₂x₁ = -3\n",
      "∂²I/∂x₂x₂ = 4\n",
      "\n",
      "🔹 Matrix Determinants:\n",
      "Det(1) = 4\n",
      "Det(2) = 7\n",
      "\n",
      "🔹 Function Type:\n",
      "I -> inf.\n",
      "\n",
      "🔹 Lagrange Function:\n",
      "L[x1, x2, λ1, λ2] = 2*x1**2 - 3*x1*x2 + 5*x1 + 2*x2**2 - 6*x2 + λ1*(-x1 + x2 + 6) + λ2*(-2*x1 - x2 + 15)\n",
      "\n",
      "🔹 First degree partial derivatives:\n",
      "∂L/∂x₁ = 4⋅x₁ - 3⋅x₂ - λ₁ - 2⋅λ₂ + 5\n",
      "∂L/∂x₂ = -3⋅x₁ + 4⋅x₂ + λ₁ - λ₂ - 6\n",
      "∂L/∂λ₁ = -x₁ + x₂ + 6\n",
      "∂L/∂λ₂ = -2⋅x₁ - x₂ + 15\n",
      "\n",
      "🔹 Necessary and sufficient conditions:\n",
      "4⋅x₁ - 3⋅x₂ - λ₁ - 2⋅λ₂ + 5 <= 0      x₁(4⋅x₁ - 3⋅x₂ - λ₁ - 2⋅λ₂ + 5) = 0\n",
      "-3⋅x₁ + 4⋅x₂ + λ₁ - λ₂ - 6 <= 0      x₂(-3⋅x₁ + 4⋅x₂ + λ₁ - λ₂ - 6) = 0\n",
      "-x₁ + x₂ + 6 >= 0      λ₁(-x₁ + x₂ + 6) = 0\n",
      "-2⋅x₁ - x₂ + 15 >= 0      λ₂(-2⋅x₁ - x₂ + 15) = 0\n"
     ]
    }
   ],
   "execution_count": 6
  },
  {
   "metadata": {},
   "cell_type": "markdown",
   "source": "## 4",
   "id": "4233ca4a2216663c"
  },
  {
   "metadata": {
    "ExecuteTime": {
     "end_time": "2025-04-01T07:40:22.389270Z",
     "start_time": "2025-04-01T07:40:22.341307Z"
    }
   },
   "cell_type": "code",
   "source": [
    "# Define variables\n",
    "x1, x2 = sp.symbols('x1 x2')\n",
    "# Define the function (Example Function)\n",
    "f = -2*(x1**2) - 5*(x2**2) + 3*x1 + 10*x2\n",
    "restrictions = [4*x1 - x2 <= 8,\n",
    "                x1 + x2 <= 12]\n",
    "print(\"\\n🔹 Function and restrictions:\")\n",
    "print(f\"I = {f} -> extr\")\n",
    "for rest in restrictions:\n",
    "    print(f\"\\t{rest}\")\n",
    "for var in [x1, x2]:\n",
    "    print(f\"{var} >= 0\", end=\", \")\n",
    "print(\"\")\n",
    "# Compute derivatives\n",
    "type = compute_derivatives(f, [x1, x2])\n",
    "# Create Lagrange function\n",
    "create_lagrange(f, restrictions, type, [x1, x2])"
   ],
   "id": "cdfef94295db54e3",
   "outputs": [
    {
     "name": "stdout",
     "output_type": "stream",
     "text": [
      "\n",
      "🔹 Function and restrictions:\n",
      "I = -2*x1**2 + 3*x1 - 5*x2**2 + 10*x2 -> extr\n",
      "\t4*x1 - x2 <= 8\n",
      "\tx1 + x2 <= 12\n",
      "x1 >= 0, x2 >= 0, \n",
      "\n",
      "🔹 First degree partial derivatives:\n",
      "∂I/∂x₁ = 3 - 4⋅x₁\n",
      "∂I/∂x₂ = 10 - 10⋅x₂\n",
      "\n",
      "🔹 Second degree partial derivatives:\n",
      "∂²I/∂x₁x₁ = -4\n",
      "∂²I/∂x₁x₂ = 0\n",
      "∂²I/∂x₂x₁ = 0\n",
      "∂²I/∂x₂x₂ = -10\n",
      "\n",
      "🔹 Matrix Determinants:\n",
      "Det(1) = -4\n",
      "Det(2) = 40\n",
      "\n",
      "🔹 Function Type:\n",
      "I -> sup.\n",
      "\n",
      "🔹 Lagrange Function:\n",
      "L[x1, x2, λ1, λ2] = -2*x1**2 + 3*x1 - 5*x2**2 + 10*x2 + λ1*(-4*x1 + x2 + 8) + λ2*(-x1 - x2 + 12)\n",
      "\n",
      "🔹 First degree partial derivatives:\n",
      "∂L/∂x₁ = -4⋅x₁ - 4⋅λ₁ - λ₂ + 3\n",
      "∂L/∂x₂ = -10⋅x₂ + λ₁ - λ₂ + 10\n",
      "∂L/∂λ₁ = -4⋅x₁ + x₂ + 8\n",
      "∂L/∂λ₂ = -x₁ - x₂ + 12\n",
      "\n",
      "🔹 Necessary and sufficient conditions:\n",
      "-4⋅x₁ - 4⋅λ₁ - λ₂ + 3 <= 0      x₁(-4⋅x₁ - 4⋅λ₁ - λ₂ + 3) = 0\n",
      "-10⋅x₂ + λ₁ - λ₂ + 10 <= 0      x₂(-10⋅x₂ + λ₁ - λ₂ + 10) = 0\n",
      "-4⋅x₁ + x₂ + 8 >= 0      λ₁(-4⋅x₁ + x₂ + 8) = 0\n",
      "-x₁ - x₂ + 12 >= 0      λ₂(-x₁ - x₂ + 12) = 0\n"
     ]
    }
   ],
   "execution_count": 7
  },
  {
   "metadata": {},
   "cell_type": "markdown",
   "source": "## 5",
   "id": "b8d9ef7f2c127b6e"
  },
  {
   "metadata": {
    "ExecuteTime": {
     "end_time": "2025-04-01T07:40:23.479977Z",
     "start_time": "2025-04-01T07:40:23.425027Z"
    }
   },
   "cell_type": "code",
   "source": [
    "# Define variables\n",
    "x1, x2, x3 = sp.symbols('x1 x2 x3')\n",
    "# Define the function (Example Function)\n",
    "f = x1**2 - x1*x2 + x2**2 + x3**2 - 5*x1 + 6*x2\n",
    "restrictions = [4*x1 - x2 <= 8,\n",
    "                x1 + x2 <= 12]\n",
    "print(\"\\n🔹 Function and restrictions:\")\n",
    "print(f\"I = {f} -> extr\")\n",
    "for rest in restrictions:\n",
    "    print(f\"\\t{rest}\")\n",
    "for var in [x1, x2]:\n",
    "    print(f\"{var} >= 0\", end=\", \")\n",
    "print(\"\")\n",
    "# Compute derivatives\n",
    "type = compute_derivatives(f, [x1, x2, x3])\n",
    "# Create Lagrange function\n",
    "create_lagrange(f, restrictions, type, [x1, x2, x3])"
   ],
   "id": "3e3845be45c675f5",
   "outputs": [
    {
     "name": "stdout",
     "output_type": "stream",
     "text": [
      "\n",
      "🔹 Function and restrictions:\n",
      "I = x1**2 - x1*x2 - 5*x1 + x2**2 + 6*x2 + x3**2 -> extr\n",
      "\t4*x1 - x2 <= 8\n",
      "\tx1 + x2 <= 12\n",
      "x1 >= 0, x2 >= 0, \n",
      "\n",
      "🔹 First degree partial derivatives:\n",
      "∂I/∂x₁ = 2⋅x₁ - x₂ - 5\n",
      "∂I/∂x₂ = -x₁ + 2⋅x₂ + 6\n",
      "∂I/∂x₃ = 2⋅x₃\n",
      "\n",
      "🔹 Second degree partial derivatives:\n",
      "∂²I/∂x₁x₁ = 2\n",
      "∂²I/∂x₁x₂ = -1\n",
      "∂²I/∂x₁x₃ = 0\n",
      "∂²I/∂x₂x₁ = -1\n",
      "∂²I/∂x₂x₂ = 2\n",
      "∂²I/∂x₂x₃ = 0\n",
      "∂²I/∂x₃x₁ = 0\n",
      "∂²I/∂x₃x₂ = 0\n",
      "∂²I/∂x₃x₃ = 2\n",
      "\n",
      "🔹 Matrix Determinants:\n",
      "Det(1) = 2\n",
      "Det(2) = 3\n",
      "Det(3) = 6\n",
      "\n",
      "🔹 Function Type:\n",
      "I -> inf.\n",
      "\n",
      "🔹 Lagrange Function:\n",
      "L[x1, x2, x3, λ1, λ2] = x1**2 - x1*x2 - 5*x1 + x2**2 + 6*x2 + x3**2 + λ1*(4*x1 - x2 - 8) + λ2*(x1 + x2 - 12)\n",
      "\n",
      "🔹 First degree partial derivatives:\n",
      "∂L/∂x₁ = 2⋅x₁ - x₂ + 4⋅λ₁ + λ₂ - 5\n",
      "∂L/∂x₂ = -x₁ + 2⋅x₂ - λ₁ + λ₂ + 6\n",
      "∂L/∂x₃ = 2⋅x₃\n",
      "∂L/∂λ₁ = 4⋅x₁ - x₂ - 8\n",
      "∂L/∂λ₂ = x₁ + x₂ - 12\n",
      "\n",
      "🔹 Necessary and sufficient conditions:\n",
      "2⋅x₁ - x₂ + 4⋅λ₁ + λ₂ - 5 >= 0      x₁(2⋅x₁ - x₂ + 4⋅λ₁ + λ₂ - 5) = 0\n",
      "-x₁ + 2⋅x₂ - λ₁ + λ₂ + 6 >= 0      x₂(-x₁ + 2⋅x₂ - λ₁ + λ₂ + 6) = 0\n",
      "2⋅x₃ >= 0      x₃(2⋅x₃) = 0\n",
      "4⋅x₁ - x₂ - 8 <= 0      λ₁(4⋅x₁ - x₂ - 8) = 0\n",
      "x₁ + x₂ - 12 <= 0      λ₂(x₁ + x₂ - 12) = 0\n"
     ]
    }
   ],
   "execution_count": 8
  },
  {
   "metadata": {},
   "cell_type": "markdown",
   "source": "## 6",
   "id": "b22246cf25501382"
  },
  {
   "metadata": {
    "ExecuteTime": {
     "end_time": "2025-04-01T07:40:23.605164Z",
     "start_time": "2025-04-01T07:40:23.556815Z"
    }
   },
   "cell_type": "code",
   "source": [
    "# Define variables\n",
    "x1, x2 = sp.symbols('x1 x2')\n",
    "# Define the function (Example Function)\n",
    "f = (x1 - 1)**2 + (x2 - 2)**2\n",
    "restrictions = [\n",
    "    sp.Eq(-x1 + x2, 1),         # x1 + x2 = 8\n",
    "    sp.Le(x1 + x2, 2)   # x1 - 2*x2 <= 16\n",
    "]\n",
    "\n",
    "print(\"\\n🔹 Function and restrictions:\")\n",
    "print(f\"I = {f} -> extr\")\n",
    "for rest in restrictions:\n",
    "    print(f\"\\t{printing.pretty(rest)}\")\n",
    "for var in [x1, x2]:\n",
    "    print(f\"{var} >= 0\", end=\", \")\n",
    "print(\"\")\n",
    "# Compute derivatives\n",
    "type = compute_derivatives(f, [x1, x2])\n",
    "# Create Lagrange function\n",
    "create_lagrange(f, restrictions, type, [x1, x2])"
   ],
   "id": "dad8fd18ed59a11",
   "outputs": [
    {
     "name": "stdout",
     "output_type": "stream",
     "text": [
      "\n",
      "🔹 Function and restrictions:\n",
      "I = (x1 - 1)**2 + (x2 - 2)**2 -> extr\n",
      "\t-x₁ + x₂ = 1\n",
      "\tx₁ + x₂ ≤ 2\n",
      "x1 >= 0, x2 >= 0, \n",
      "\n",
      "🔹 First degree partial derivatives:\n",
      "∂I/∂x₁ = 2⋅x₁ - 2\n",
      "∂I/∂x₂ = 2⋅x₂ - 4\n",
      "\n",
      "🔹 Second degree partial derivatives:\n",
      "∂²I/∂x₁x₁ = 2\n",
      "∂²I/∂x₁x₂ = 0\n",
      "∂²I/∂x₂x₁ = 0\n",
      "∂²I/∂x₂x₂ = 2\n",
      "\n",
      "🔹 Matrix Determinants:\n",
      "Det(1) = 2\n",
      "Det(2) = 4\n",
      "\n",
      "🔹 Function Type:\n",
      "I -> inf.\n",
      "\n",
      "🔹 Lagrange Function:\n",
      "L[x1, x2, λ1, λ2] = λ1*(x1 - x2 + 1) + λ2*(x1 + x2 - 2) + (x1 - 1)**2 + (x2 - 2)**2\n",
      "\n",
      "🔹 First degree partial derivatives:\n",
      "∂L/∂x₁ = 2⋅x₁ + λ₁ + λ₂ - 2\n",
      "∂L/∂x₂ = 2⋅x₂ - λ₁ + λ₂ - 4\n",
      "∂L/∂λ₁ = x₁ - x₂ + 1\n",
      "∂L/∂λ₂ = x₁ + x₂ - 2\n",
      "\n",
      "🔹 Necessary and sufficient conditions:\n",
      "2⋅x₁ + λ₁ + λ₂ - 2 <= 0      x₁(2⋅x₁ + λ₁ + λ₂ - 2) = 0\n",
      "2⋅x₂ - λ₁ + λ₂ - 4 <= 0      x₂(2⋅x₂ - λ₁ + λ₂ - 4) = 0\n",
      "x₁ - x₂ + 1 = 0      λ₁(x₁ - x₂ + 1) = 0\n",
      "x₁ + x₂ - 2 <= 0      λ₂(x₁ + x₂ - 2) = 0\n"
     ]
    }
   ],
   "execution_count": 9
  },
  {
   "metadata": {},
   "cell_type": "markdown",
   "source": "## 7",
   "id": "41de944176c00ab1"
  },
  {
   "metadata": {
    "ExecuteTime": {
     "end_time": "2025-04-01T07:40:23.719252Z",
     "start_time": "2025-04-01T07:40:23.671265Z"
    }
   },
   "cell_type": "code",
   "source": [
    "# Define variables\n",
    "x1, x2 = sp.symbols('x1 x2')\n",
    "# Define the function (Example Function)\n",
    "f = 2*x1**2 - 3*x1*x2 + 2*x2**2 + 5*x1 + 6*x2\n",
    "restrictions = [sp.Eq(x1 - x2, 6),\n",
    "                sp.Eq(2*x1 + x2, 15)]\n",
    "print(\"\\n🔹 Function and restrictions:\")\n",
    "print(f\"I = {f} -> extr\")\n",
    "for rest in restrictions:\n",
    "    print(f\"\\t{rest}\")\n",
    "for var in [x1, x2]:\n",
    "    print(f\"{var} >= 0\", end=\", \")\n",
    "print(\"\")\n",
    "# Compute derivatives\n",
    "type = compute_derivatives(f, [x1, x2])\n",
    "# Create Lagrange function\n",
    "create_lagrange(f, restrictions, type, [x1, x2])"
   ],
   "id": "b52a2be54f43fbab",
   "outputs": [
    {
     "name": "stdout",
     "output_type": "stream",
     "text": [
      "\n",
      "🔹 Function and restrictions:\n",
      "I = 2*x1**2 - 3*x1*x2 + 5*x1 + 2*x2**2 + 6*x2 -> extr\n",
      "\tEq(x1 - x2, 6)\n",
      "\tEq(2*x1 + x2, 15)\n",
      "x1 >= 0, x2 >= 0, \n",
      "\n",
      "🔹 First degree partial derivatives:\n",
      "∂I/∂x₁ = 4⋅x₁ - 3⋅x₂ + 5\n",
      "∂I/∂x₂ = -3⋅x₁ + 4⋅x₂ + 6\n",
      "\n",
      "🔹 Second degree partial derivatives:\n",
      "∂²I/∂x₁x₁ = 4\n",
      "∂²I/∂x₁x₂ = -3\n",
      "∂²I/∂x₂x₁ = -3\n",
      "∂²I/∂x₂x₂ = 4\n",
      "\n",
      "🔹 Matrix Determinants:\n",
      "Det(1) = 4\n",
      "Det(2) = 7\n",
      "\n",
      "🔹 Function Type:\n",
      "I -> inf.\n",
      "\n",
      "🔹 Lagrange Function:\n",
      "L[x1, x2, λ1, λ2] = 2*x1**2 - 3*x1*x2 + 5*x1 + 2*x2**2 + 6*x2 + λ1*(-x1 + x2 + 6) + λ2*(-2*x1 - x2 + 15)\n",
      "\n",
      "🔹 First degree partial derivatives:\n",
      "∂L/∂x₁ = 4⋅x₁ - 3⋅x₂ - λ₁ - 2⋅λ₂ + 5\n",
      "∂L/∂x₂ = -3⋅x₁ + 4⋅x₂ + λ₁ - λ₂ + 6\n",
      "∂L/∂λ₁ = -x₁ + x₂ + 6\n",
      "∂L/∂λ₂ = -2⋅x₁ - x₂ + 15\n",
      "\n",
      "🔹 Necessary and sufficient conditions:\n",
      "4⋅x₁ - 3⋅x₂ - λ₁ - 2⋅λ₂ + 5 <= 0      x₁(4⋅x₁ - 3⋅x₂ - λ₁ - 2⋅λ₂ + 5) = 0\n",
      "-3⋅x₁ + 4⋅x₂ + λ₁ - λ₂ + 6 <= 0      x₂(-3⋅x₁ + 4⋅x₂ + λ₁ - λ₂ + 6) = 0\n",
      "-x₁ + x₂ + 6 = 0      λ₁(-x₁ + x₂ + 6) = 0\n",
      "-2⋅x₁ - x₂ + 15 = 0      λ₂(-2⋅x₁ - x₂ + 15) = 0\n"
     ]
    }
   ],
   "execution_count": 10
  },
  {
   "metadata": {},
   "cell_type": "markdown",
   "source": "## 8",
   "id": "340c44995239aa7c"
  },
  {
   "metadata": {
    "ExecuteTime": {
     "end_time": "2025-04-01T07:40:23.850536Z",
     "start_time": "2025-04-01T07:40:23.797726Z"
    }
   },
   "cell_type": "code",
   "source": [
    "# Define variables\n",
    "x1, x2 = sp.symbols('x1 x2')\n",
    "# Define the function (Example Function)\n",
    "f = x1**2 - 2*x1*x2 + 2*x2**2 + 5*x1 - 6*x2\n",
    "restrictions = [sp.Le(x1 + 3*x2, 12),\n",
    "                sp.Ge(x1 + x2, 6)]\n",
    "print(\"\\n🔹 Function and restrictions:\")\n",
    "print(f\"I = {f} -> extr\")\n",
    "for rest in restrictions:\n",
    "    print(f\"\\t{rest}\")\n",
    "for var in [x1, x2]:\n",
    "    print(f\"{var} >= 0\", end=\", \")\n",
    "print(\"\")\n",
    "# Compute derivatives\n",
    "type = compute_derivatives(f, [x1, x2])\n",
    "# Create Lagrange function\n",
    "create_lagrange(f, restrictions, type, [x1, x2])"
   ],
   "id": "660bc2057aa5537b",
   "outputs": [
    {
     "name": "stdout",
     "output_type": "stream",
     "text": [
      "\n",
      "🔹 Function and restrictions:\n",
      "I = x1**2 - 2*x1*x2 + 5*x1 + 2*x2**2 - 6*x2 -> extr\n",
      "\tx1 + 3*x2 <= 12\n",
      "\tx1 + x2 >= 6\n",
      "x1 >= 0, x2 >= 0, \n",
      "\n",
      "🔹 First degree partial derivatives:\n",
      "∂I/∂x₁ = 2⋅x₁ - 2⋅x₂ + 5\n",
      "∂I/∂x₂ = -2⋅x₁ + 4⋅x₂ - 6\n",
      "\n",
      "🔹 Second degree partial derivatives:\n",
      "∂²I/∂x₁x₁ = 2\n",
      "∂²I/∂x₁x₂ = -2\n",
      "∂²I/∂x₂x₁ = -2\n",
      "∂²I/∂x₂x₂ = 4\n",
      "\n",
      "🔹 Matrix Determinants:\n",
      "Det(1) = 2\n",
      "Det(2) = 4\n",
      "\n",
      "🔹 Function Type:\n",
      "I -> inf.\n",
      "\n",
      "🔹 Lagrange Function:\n",
      "L[x1, x2, λ1, λ2] = x1**2 - 2*x1*x2 + 5*x1 + 2*x2**2 - 6*x2 + λ1*(x1 + 3*x2 - 12) + λ2*(-x1 - x2 + 6)\n",
      "\n",
      "🔹 First degree partial derivatives:\n",
      "∂L/∂x₁ = 2⋅x₁ - 2⋅x₂ + λ₁ - λ₂ + 5\n",
      "∂L/∂x₂ = -2⋅x₁ + 4⋅x₂ + 3⋅λ₁ - λ₂ - 6\n",
      "∂L/∂λ₁ = x₁ + 3⋅x₂ - 12\n",
      "∂L/∂λ₂ = -x₁ - x₂ + 6\n",
      "\n",
      "🔹 Necessary and sufficient conditions:\n",
      "2⋅x₁ - 2⋅x₂ + λ₁ - λ₂ + 5 >= 0      x₁(2⋅x₁ - 2⋅x₂ + λ₁ - λ₂ + 5) = 0\n",
      "-2⋅x₁ + 4⋅x₂ + 3⋅λ₁ - λ₂ - 6 >= 0      x₂(-2⋅x₁ + 4⋅x₂ + 3⋅λ₁ - λ₂ - 6) = 0\n",
      "x₁ + 3⋅x₂ - 12 <= 0      λ₁(x₁ + 3⋅x₂ - 12) = 0\n",
      "-x₁ - x₂ + 6 >= 0      λ₂(-x₁ - x₂ + 6) = 0\n"
     ]
    }
   ],
   "execution_count": 11
  },
  {
   "metadata": {},
   "cell_type": "markdown",
   "source": "## 9",
   "id": "534555f23cc8b247"
  },
  {
   "metadata": {
    "ExecuteTime": {
     "end_time": "2025-04-01T07:40:24.149871Z",
     "start_time": "2025-04-01T07:40:23.913450Z"
    }
   },
   "cell_type": "code",
   "source": [
    "# Define variables\n",
    "x1, x2 = sp.symbols('x1 x2')\n",
    "# Define the function (Example Function)\n",
    "f = 2*x1**2 - 2*x1*x2 + 2*x2**2 + 3*x1 + 4*x2\n",
    "restrictions = [sp.Ge(2*x1 + x2, 6),\n",
    "                sp.Le(2*x1 + 3*x2, 18)]\n",
    "print(\"\\n🔹 Function and restrictions:\")\n",
    "print(f\"I = {f} -> extr\")\n",
    "for rest in restrictions:\n",
    "    print(f\"\\t{rest}\")\n",
    "for var in [x1, x2]:\n",
    "    print(f\"{var} >= 0\", end=\", \")\n",
    "print(\"\")\n",
    "# Compute derivatives\n",
    "type = compute_derivatives(f, [x1, x2])\n",
    "# Create Lagrange function\n",
    "create_lagrange(f, restrictions, type, [x1, x2])"
   ],
   "id": "b76eada3dcca7bd0",
   "outputs": [
    {
     "name": "stdout",
     "output_type": "stream",
     "text": [
      "\n",
      "🔹 Function and restrictions:\n",
      "I = 2*x1**2 - 2*x1*x2 + 3*x1 + 2*x2**2 + 4*x2 -> extr\n",
      "\t2*x1 + x2 >= 6\n",
      "\t2*x1 + 3*x2 <= 18\n",
      "x1 >= 0, x2 >= 0, \n",
      "\n",
      "🔹 First degree partial derivatives:\n",
      "∂I/∂x₁ = 4⋅x₁ - 2⋅x₂ + 3\n",
      "∂I/∂x₂ = -2⋅x₁ + 4⋅x₂ + 4\n",
      "\n",
      "🔹 Second degree partial derivatives:\n",
      "∂²I/∂x₁x₁ = 4\n",
      "∂²I/∂x₁x₂ = -2\n",
      "∂²I/∂x₂x₁ = -2\n",
      "∂²I/∂x₂x₂ = 4\n",
      "\n",
      "🔹 Matrix Determinants:\n",
      "Det(1) = 4\n",
      "Det(2) = 12\n",
      "\n",
      "🔹 Function Type:\n",
      "I -> inf.\n",
      "\n",
      "🔹 Lagrange Function:\n",
      "L[x1, x2, λ1, λ2] = 2*x1**2 - 2*x1*x2 + 3*x1 + 2*x2**2 + 4*x2 + λ1*(-2*x1 - x2 + 6) + λ2*(2*x1 + 3*x2 - 18)\n",
      "\n",
      "🔹 First degree partial derivatives:\n",
      "∂L/∂x₁ = 4⋅x₁ - 2⋅x₂ - 2⋅λ₁ + 2⋅λ₂ + 3\n",
      "∂L/∂x₂ = -2⋅x₁ + 4⋅x₂ - λ₁ + 3⋅λ₂ + 4\n",
      "∂L/∂λ₁ = -2⋅x₁ - x₂ + 6\n",
      "∂L/∂λ₂ = 2⋅x₁ + 3⋅x₂ - 18\n",
      "\n",
      "🔹 Necessary and sufficient conditions:\n",
      "4⋅x₁ - 2⋅x₂ - 2⋅λ₁ + 2⋅λ₂ + 3 <= 0      x₁(4⋅x₁ - 2⋅x₂ - 2⋅λ₁ + 2⋅λ₂ + 3) = 0\n",
      "-2⋅x₁ + 4⋅x₂ - λ₁ + 3⋅λ₂ + 4 <= 0      x₂(-2⋅x₁ + 4⋅x₂ - λ₁ + 3⋅λ₂ + 4) = 0\n",
      "-2⋅x₁ - x₂ + 6 >= 0      λ₁(-2⋅x₁ - x₂ + 6) = 0\n",
      "2⋅x₁ + 3⋅x₂ - 18 <= 0      λ₂(2⋅x₁ + 3⋅x₂ - 18) = 0\n"
     ]
    }
   ],
   "execution_count": 12
  },
  {
   "metadata": {},
   "cell_type": "markdown",
   "source": "## 10",
   "id": "efb06c3043e2c352"
  },
  {
   "metadata": {
    "ExecuteTime": {
     "end_time": "2025-04-01T07:40:24.298338Z",
     "start_time": "2025-04-01T07:40:24.251263Z"
    }
   },
   "cell_type": "code",
   "source": [
    "# Define variables\n",
    "x1, x2 = sp.symbols('x1 x2')\n",
    "# Define the function (Example Function)\n",
    "f = -x1**2 - x2**2 + x1 + 2*x2\n",
    "restrictions = [sp.Le(x1 + 2*x2, 16),\n",
    "                sp.Eq(x1 + x2, 8)]\n",
    "print(\"\\n🔹 Function and restrictions:\")\n",
    "print(f\"I = {f} -> extr\")\n",
    "for rest in restrictions:\n",
    "    print(f\"\\t{rest}\")\n",
    "for var in [x1, x2]:\n",
    "    print(f\"{var} >= 0\", end=\", \")\n",
    "print(\"\")\n",
    "# Compute derivatives\n",
    "type = compute_derivatives(f, [x1, x2])\n",
    "# Create Lagrange function\n",
    "create_lagrange(f, restrictions, type, [x1, x2])"
   ],
   "id": "385a40a6efd37a58",
   "outputs": [
    {
     "name": "stdout",
     "output_type": "stream",
     "text": [
      "\n",
      "🔹 Function and restrictions:\n",
      "I = -x1**2 + x1 - x2**2 + 2*x2 -> extr\n",
      "\tx1 + 2*x2 <= 16\n",
      "\tEq(x1 + x2, 8)\n",
      "x1 >= 0, x2 >= 0, \n",
      "\n",
      "🔹 First degree partial derivatives:\n",
      "∂I/∂x₁ = 1 - 2⋅x₁\n",
      "∂I/∂x₂ = 2 - 2⋅x₂\n",
      "\n",
      "🔹 Second degree partial derivatives:\n",
      "∂²I/∂x₁x₁ = -2\n",
      "∂²I/∂x₁x₂ = 0\n",
      "∂²I/∂x₂x₁ = 0\n",
      "∂²I/∂x₂x₂ = -2\n",
      "\n",
      "🔹 Matrix Determinants:\n",
      "Det(1) = -2\n",
      "Det(2) = 4\n",
      "\n",
      "🔹 Function Type:\n",
      "I -> sup.\n",
      "\n",
      "🔹 Lagrange Function:\n",
      "L[x1, x2, λ1, λ2] = -x1**2 + x1 - x2**2 + 2*x2 + λ1*(-x1 - 2*x2 + 16) + λ2*(-x1 - x2 + 8)\n",
      "\n",
      "🔹 First degree partial derivatives:\n",
      "∂L/∂x₁ = -2⋅x₁ - λ₁ - λ₂ + 1\n",
      "∂L/∂x₂ = -2⋅x₂ - 2⋅λ₁ - λ₂ + 2\n",
      "∂L/∂λ₁ = -x₁ - 2⋅x₂ + 16\n",
      "∂L/∂λ₂ = -x₁ - x₂ + 8\n",
      "\n",
      "🔹 Necessary and sufficient conditions:\n",
      "-2⋅x₁ - λ₁ - λ₂ + 1 <= 0      x₁(-2⋅x₁ - λ₁ - λ₂ + 1) = 0\n",
      "-2⋅x₂ - 2⋅λ₁ - λ₂ + 2 <= 0      x₂(-2⋅x₂ - 2⋅λ₁ - λ₂ + 2) = 0\n",
      "-x₁ - 2⋅x₂ + 16 >= 0      λ₁(-x₁ - 2⋅x₂ + 16) = 0\n",
      "-x₁ - x₂ + 8 = 0      λ₂(-x₁ - x₂ + 8) = 0\n"
     ]
    }
   ],
   "execution_count": 13
  },
  {
   "metadata": {},
   "cell_type": "markdown",
   "source": "## 11",
   "id": "baf153941c4ba828"
  },
  {
   "metadata": {
    "ExecuteTime": {
     "end_time": "2025-04-01T07:40:24.399338Z",
     "start_time": "2025-04-01T07:40:24.354357Z"
    }
   },
   "cell_type": "code",
   "source": [
    "# Define variables\n",
    "x1, x2 = sp.symbols('x1 x2')\n",
    "# Define the function (Example Function)\n",
    "f = -2*x1*x2 - x1**2 - x2**2\n",
    "restrictions = [sp.Le(2*x1 - x2, 6),\n",
    "                sp.Le(x1 + x2, 10)]\n",
    "print(\"\\n🔹 Function and restrictions:\")\n",
    "print(f\"I = {f} -> extr\")\n",
    "for rest in restrictions:\n",
    "    print(f\"\\t{rest}\")\n",
    "for var in [x1, x2]:\n",
    "    print(f\"{var} >= 0\", end=\", \")\n",
    "print(\"\")\n",
    "# Compute derivatives\n",
    "type = compute_derivatives(f, [x1, x2])\n",
    "# Create Lagrange function\n",
    "if type is not None:\n",
    "    create_lagrange(f, restrictions, type, [x1, x2])"
   ],
   "id": "f86266cd1e9d6f0e",
   "outputs": [
    {
     "name": "stdout",
     "output_type": "stream",
     "text": [
      "\n",
      "🔹 Function and restrictions:\n",
      "I = -x1**2 - 2*x1*x2 - x2**2 -> extr\n",
      "\t2*x1 - x2 <= 6\n",
      "\tx1 + x2 <= 10\n",
      "x1 >= 0, x2 >= 0, \n",
      "\n",
      "🔹 First degree partial derivatives:\n",
      "∂I/∂x₁ = -2⋅x₁ - 2⋅x₂\n",
      "∂I/∂x₂ = -2⋅x₁ - 2⋅x₂\n",
      "\n",
      "🔹 Second degree partial derivatives:\n",
      "∂²I/∂x₁x₁ = -2\n",
      "∂²I/∂x₁x₂ = -2\n",
      "∂²I/∂x₂x₁ = -2\n",
      "∂²I/∂x₂x₂ = -2\n",
      "\n",
      "🔹 Matrix Determinants:\n",
      "Det(1) = -2\n",
      "Det(2) = 0\n",
      "\n",
      "🔹 Function Type:\n",
      "I -> sup.\n",
      "\n",
      "🔹 Lagrange Function:\n",
      "L[x1, x2, λ1, λ2] = -x1**2 - 2*x1*x2 - x2**2 + λ1*(-2*x1 + x2 + 6) + λ2*(-x1 - x2 + 10)\n",
      "\n",
      "🔹 First degree partial derivatives:\n",
      "∂L/∂x₁ = -2⋅x₁ - 2⋅x₂ - 2⋅λ₁ - λ₂\n",
      "∂L/∂x₂ = -2⋅x₁ - 2⋅x₂ + λ₁ - λ₂\n",
      "∂L/∂λ₁ = -2⋅x₁ + x₂ + 6\n",
      "∂L/∂λ₂ = -x₁ - x₂ + 10\n",
      "\n",
      "🔹 Necessary and sufficient conditions:\n",
      "-2⋅x₁ - 2⋅x₂ - 2⋅λ₁ - λ₂ <= 0      x₁(-2⋅x₁ - 2⋅x₂ - 2⋅λ₁ - λ₂) = 0\n",
      "-2⋅x₁ - 2⋅x₂ + λ₁ - λ₂ <= 0      x₂(-2⋅x₁ - 2⋅x₂ + λ₁ - λ₂) = 0\n",
      "-2⋅x₁ + x₂ + 6 >= 0      λ₁(-2⋅x₁ + x₂ + 6) = 0\n",
      "-x₁ - x₂ + 10 >= 0      λ₂(-x₁ - x₂ + 10) = 0\n"
     ]
    }
   ],
   "execution_count": 14
  },
  {
   "metadata": {},
   "cell_type": "markdown",
   "source": "## 12",
   "id": "f80f2fc46305560"
  },
  {
   "metadata": {
    "ExecuteTime": {
     "end_time": "2025-04-01T07:40:24.564452Z",
     "start_time": "2025-04-01T07:40:24.417897Z"
    }
   },
   "cell_type": "code",
   "source": [
    "# Define variables\n",
    "x1, x2 = sp.symbols('x1 x2')\n",
    "# Define the function (Example Function)\n",
    "f = 9*(x1 -5)**2 + 4*(x2 - 6)**2\n",
    "restrictions = [sp.Le(12, 3*x1 + 2*x2),\n",
    "                sp.Le(x1 - x2, 6),\n",
    "                sp.Le(x2, 4)]\n",
    "print(\"\\n🔹 Function and restrictions:\")\n",
    "print(f\"I = {f} -> extr\")\n",
    "for rest in restrictions:\n",
    "    print(f\"\\t{rest}\")\n",
    "for var in [x1, x2]:\n",
    "    print(f\"{var} >= 0\", end=\", \")\n",
    "print(\"\")\n",
    "# Compute derivatives\n",
    "type = compute_derivatives(f, [x1, x2])\n",
    "# Create Lagrange function\n",
    "create_lagrange(f, restrictions, type, [x1, x2])"
   ],
   "id": "854b6e72a0a8bd0c",
   "outputs": [
    {
     "name": "stdout",
     "output_type": "stream",
     "text": [
      "\n",
      "🔹 Function and restrictions:\n",
      "I = 9*(x1 - 5)**2 + 4*(x2 - 6)**2 -> extr\n",
      "\t12 <= 3*x1 + 2*x2\n",
      "\tx1 - x2 <= 6\n",
      "\tx2 <= 4\n",
      "x1 >= 0, x2 >= 0, \n",
      "\n",
      "🔹 First degree partial derivatives:\n",
      "∂I/∂x₁ = 18⋅x₁ - 90\n",
      "∂I/∂x₂ = 8⋅x₂ - 48\n",
      "\n",
      "🔹 Second degree partial derivatives:\n",
      "∂²I/∂x₁x₁ = 18\n",
      "∂²I/∂x₁x₂ = 0\n",
      "∂²I/∂x₂x₁ = 0\n",
      "∂²I/∂x₂x₂ = 8\n",
      "\n",
      "🔹 Matrix Determinants:\n",
      "Det(1) = 18\n",
      "Det(2) = 144\n",
      "\n",
      "🔹 Function Type:\n",
      "I -> inf.\n",
      "\n",
      "🔹 Lagrange Function:\n",
      "L[x1, x2, λ1, λ2, λ3] = λ1*(-3*x1 - 2*x2 + 12) + λ2*(x1 - x2 - 6) + λ3*(x2 - 4) + 9*(x1 - 5)**2 + 4*(x2 - 6)**2\n",
      "\n",
      "🔹 First degree partial derivatives:\n",
      "∂L/∂x₁ = 18⋅x₁ - 3⋅λ₁ + λ₂ - 90\n",
      "∂L/∂x₂ = 8⋅x₂ - 2⋅λ₁ - λ₂ + λ₃ - 48\n",
      "∂L/∂λ₁ = -3⋅x₁ - 2⋅x₂ + 12\n",
      "∂L/∂λ₂ = x₁ - x₂ - 6\n",
      "∂L/∂λ₃ = x₂ - 4\n",
      "\n",
      "🔹 Necessary and sufficient conditions:\n",
      "18⋅x₁ - 3⋅λ₁ + λ₂ - 90 >= 0      x₁(18⋅x₁ - 3⋅λ₁ + λ₂ - 90) = 0\n",
      "8⋅x₂ - 2⋅λ₁ - λ₂ + λ₃ - 48 >= 0      x₂(8⋅x₂ - 2⋅λ₁ - λ₂ + λ₃ - 48) = 0\n",
      "-3⋅x₁ - 2⋅x₂ + 12 <= 0      λ₁(-3⋅x₁ - 2⋅x₂ + 12) = 0\n",
      "x₁ - x₂ - 6 <= 0      λ₂(x₁ - x₂ - 6) = 0\n",
      "x₂ - 4 <= 0      λ₃(x₂ - 4) = 0\n"
     ]
    }
   ],
   "execution_count": 15
  },
  {
   "metadata": {
    "ExecuteTime": {
     "end_time": "2025-04-01T07:40:24.695088Z",
     "start_time": "2025-04-01T07:40:24.691827Z"
    }
   },
   "cell_type": "code",
   "source": "",
   "id": "1a4a5e8c65007288",
   "outputs": [],
   "execution_count": null
  },
  {
   "metadata": {
    "ExecuteTime": {
     "end_time": "2025-04-01T07:40:24.952783Z",
     "start_time": "2025-04-01T07:40:24.948187Z"
    }
   },
   "cell_type": "code",
   "source": "",
   "id": "948054d087a371a5",
   "outputs": [],
   "execution_count": null
  },
  {
   "metadata": {
    "ExecuteTime": {
     "end_time": "2025-04-01T07:40:25.107503Z",
     "start_time": "2025-04-01T07:40:25.104196Z"
    }
   },
   "cell_type": "code",
   "source": "",
   "id": "432105644aa001dc",
   "outputs": [],
   "execution_count": null
  },
  {
   "metadata": {
    "ExecuteTime": {
     "end_time": "2025-04-01T07:40:25.204095Z",
     "start_time": "2025-04-01T07:40:25.200220Z"
    }
   },
   "cell_type": "code",
   "source": "",
   "id": "3a47080e9f17c48f",
   "outputs": [],
   "execution_count": null
  },
  {
   "metadata": {
    "ExecuteTime": {
     "end_time": "2025-04-01T07:40:25.301643Z",
     "start_time": "2025-04-01T07:40:25.297709Z"
    }
   },
   "cell_type": "code",
   "source": "",
   "id": "bb23f5b434276550",
   "outputs": [],
   "execution_count": null
  },
  {
   "metadata": {
    "ExecuteTime": {
     "end_time": "2025-04-01T07:40:25.396024Z",
     "start_time": "2025-04-01T07:40:25.392557Z"
    }
   },
   "cell_type": "code",
   "source": "",
   "id": "18b0a184d0264e65",
   "outputs": [],
   "execution_count": null
  },
  {
   "metadata": {
    "ExecuteTime": {
     "end_time": "2025-04-01T07:40:25.474890Z",
     "start_time": "2025-04-01T07:40:25.471503Z"
    }
   },
   "cell_type": "code",
   "source": "",
   "id": "cb59b589c4d485d",
   "outputs": [],
   "execution_count": null
  },
  {
   "metadata": {
    "ExecuteTime": {
     "end_time": "2025-04-01T07:40:25.510783Z",
     "start_time": "2025-04-01T07:40:25.506759Z"
    }
   },
   "cell_type": "code",
   "source": "",
   "id": "8d4676205732dc20",
   "outputs": [],
   "execution_count": null
  },
  {
   "metadata": {
    "ExecuteTime": {
     "end_time": "2025-04-01T07:40:25.563502Z",
     "start_time": "2025-04-01T07:40:25.559411Z"
    }
   },
   "cell_type": "code",
   "source": "",
   "id": "2c3e9f1c39d50811",
   "outputs": [],
   "execution_count": null
  },
  {
   "metadata": {},
   "cell_type": "code",
   "outputs": [],
   "execution_count": null,
   "source": "",
   "id": "2fe5a9a3f04edf9a"
  }
 ],
 "metadata": {
  "kernelspec": {
   "display_name": "Python 3",
   "language": "python",
   "name": "python3"
  },
  "language_info": {
   "codemirror_mode": {
    "name": "ipython",
    "version": 2
   },
   "file_extension": ".py",
   "mimetype": "text/x-python",
   "name": "python",
   "nbconvert_exporter": "python",
   "pygments_lexer": "ipython2",
   "version": "2.7.6"
  }
 },
 "nbformat": 4,
 "nbformat_minor": 5
}
