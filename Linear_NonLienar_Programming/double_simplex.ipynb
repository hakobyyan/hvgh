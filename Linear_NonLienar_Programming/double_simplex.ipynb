{
 "cells": [
  {
   "cell_type": "code",
   "id": "60eb6a837a70b083",
   "metadata": {
    "ExecuteTime": {
     "end_time": "2025-03-15T06:58:49.037456Z",
     "start_time": "2025-03-15T06:58:46.816587Z"
    }
   },
   "source": [
    "import sys\n",
    "import importlib\n",
    "import numpy as np\n",
    "sys.path.append('libs')\n",
    "from hvgh.Linear_NonLienar_Programming import simplex_module as simplex\n",
    "\n",
    "importlib.reload(simplex)"
   ],
   "outputs": [
    {
     "data": {
      "text/plain": [
       "<module 'simplex_module' from 'C:\\\\Users\\\\yurih\\\\Desktop\\\\Lessons\\\\hvgh\\\\simplex_module.py'>"
      ]
     },
     "execution_count": 3,
     "metadata": {},
     "output_type": "execute_result"
    }
   ],
   "execution_count": 3
  },
  {
   "cell_type": "markdown",
   "id": "428a5033069bdef9",
   "metadata": {},
   "source": [
    "## 1"
   ]
  },
  {
   "cell_type": "code",
   "id": "d7e371e7b162fac0",
   "metadata": {},
   "source": [
    "importlib.reload(simplex)\n",
    "\n",
    "c = np.array([6, 4])\n",
    "a = np.array([[3, 2],\n",
    "              [6, 5],\n",
    "              [1, 3]])\n",
    "b = np.array([20, 25, 10])\n",
    "equalities = ['<=', '<=', '<=']\n",
    "max_problem = True\n",
    "table = simplex.simplex_method(c, a, b, equalities, max_problem, integer=True, precision=1)"
   ],
   "outputs": [],
   "execution_count": null
  },
  {
   "cell_type": "markdown",
   "id": "bf29e32fe75f2a8b",
   "metadata": {},
   "source": [
    "## 2"
   ]
  },
  {
   "cell_type": "code",
   "id": "b665fe721fb6bc09",
   "metadata": {},
   "source": [
    "c = np.array([1, -1])\n",
    "a = np.array([[1, 2],\n",
    "              [6, 2]])\n",
    "b = np.array([4, 9])\n",
    "equalities = ['<=', '<=']\n",
    "max_problem = True\n",
    "\n",
    "table= simplex.simplex_method(c, a, b, equalities, max_problem, integer=True, remove=False)"
   ],
   "outputs": [],
   "execution_count": null
  },
  {
   "cell_type": "markdown",
   "id": "70f6c972d6b57f90",
   "metadata": {},
   "source": [
    "## 3"
   ]
  },
  {
   "cell_type": "code",
   "id": "6b2b95f5508d6351",
   "metadata": {},
   "source": [
    "importlib.reload(simplex)\n",
    "c = np.array([6, 8])\n",
    "a = np.array([[3, 1],\n",
    "              [1, 2]])\n",
    "b = np.array([4, 4])\n",
    "equalities = ['>=', '>=']\n",
    "max_problem = False\n",
    "\n",
    "table = simplex.simplex_method(c, a, b, equalities, max_problem, integer=True, precision=4)"
   ],
   "outputs": [],
   "execution_count": null
  },
  {
   "cell_type": "markdown",
   "id": "58eb28e3ee1c3789",
   "metadata": {},
   "source": [
    "## 4"
   ]
  },
  {
   "cell_type": "code",
   "id": "ae797c1db3943818",
   "metadata": {},
   "source": [
    "importlib.reload(simplex)\n",
    "c = np.array([6, 4])\n",
    "a = np.array([[2, 1],\n",
    "              [1, -1]])\n",
    "b = np.array([3, 1])\n",
    "equalities = ['>=', '>=']\n",
    "max_problem = False\n",
    "\n",
    "table = simplex.simplex_method(c, a, b, equalities, max_problem, integer=True)"
   ],
   "outputs": [],
   "execution_count": null
  },
  {
   "cell_type": "markdown",
   "id": "b171306a3d23ad6",
   "metadata": {},
   "source": [
    "## 5"
   ]
  },
  {
   "metadata": {
    "ExecuteTime": {
     "end_time": "2025-03-15T06:58:49.950492Z",
     "start_time": "2025-03-15T06:58:49.909035Z"
    }
   },
   "cell_type": "code",
   "source": [
    "importlib.reload(simplex)\n",
    "c = np.array([2, 1])\n",
    "a = np.array([[10, 10],\n",
    "              [10, 5]])\n",
    "b = np.array([9, 1])\n",
    "equalities = ['<=', '>=']\n",
    "max_problem = False\n",
    "\n",
    "table = simplex.simplex_method(c, a, b, equalities, max_problem, integer=True)"
   ],
   "id": "a07f48a970289e76",
   "outputs": [
    {
     "name": "stdout",
     "output_type": "stream",
     "text": [
      "Initial Problem:\n",
      "min Z = 2*x1 + 1*x2\n",
      "Restrictions:\n",
      "10*x1 + 10*x2 <= 9\n",
      "10*x1 + 5*x2 >= 1\n",
      "x1 >= 0, x2 >= 0\n",
      "\n",
      "Canonical Problem:\n",
      "min Z = 2.0*x1 + 1.0*x2 + 0.0*x3 + 0.0*x4 + inf*x5\n",
      "Restrictions:\n",
      "10*x1 + 10*x2 + 1*x3 + 0*x4 + 0*x5 = 9\n",
      "10*x1 + 5*x2 + 0*x3 + -1*x4 + 1*x5 = 1\n",
      "x1 >= 0, x2 >= 0, x3 >= 0, x4 >= 0, x5 >= 0\n",
      "\n",
      "non_negatives = [True, True, True, True, True]\n",
      "Objective Function: [0.0, 0.0, 9.0, 0.0, 1.0]\n",
      "╒═══════════╤═════════╤═══════════╤════════════╤═══════╤═══════╤══════╤════════╤══════╕\n",
      "│           │  Basis  │  C_basis  │  Solution  │  x1   │  x2   │  x3  │   x4   │  x5  │\n",
      "╞═══════════╪═════════╪═══════════╪════════════╪═══════╪═══════╪══════╪════════╪══════╡\n",
      "│   Row1    │    3    │     0     │     9      │  10   │  10   │  1   │   0    │  0   │\n",
      "├───────────┼─────────┼───────────┼────────────┼───────┼───────┼──────┼────────┼──────┤\n",
      "│   Row2    │    5    │   1e+07   │     1      │  10   │   5   │  0   │   -1   │  1   │\n",
      "├───────────┼─────────┼───────────┼────────────┼───────┼───────┼──────┼────────┼──────┤\n",
      "│ Objective │    0    │     0     │   1e+07    │ 1e+08 │ 5e+07 │  0   │ -1e+07 │  0   │\n",
      "╘═══════════╧═════════╧═══════════╧════════════╧═══════╧═══════╧══════╧════════╧══════╛\n",
      "Positives: [np.float64(99999998.0), np.float64(49999999.0)]\n",
      "Initial tableau is not optimal\n",
      "New basis is 1\n",
      "Remove basis is 5\n",
      "Objective Function: [0.1, 0.0, 8.0, 0.0, 0.0]\n",
      "╒═══════════╤═════════╤═══════════╤════════════╤══════╤══════╤══════╤══════╤════════╕\n",
      "│           │  Basis  │  C_basis  │  Solution  │  x1  │  x2  │  x3  │  x4  │   x5   │\n",
      "╞═══════════╪═════════╪═══════════╪════════════╪══════╪══════╪══════╪══════╪════════╡\n",
      "│   Row1    │    3    │     0     │     8      │  0   │  5   │  1   │  1   │   -1   │\n",
      "├───────────┼─────────┼───────────┼────────────┼──────┼──────┼──────┼──────┼────────┤\n",
      "│   Row2    │    1    │     2     │    0.1     │  1   │ 0.5  │  0   │ -0.1 │  0.1   │\n",
      "├───────────┼─────────┼───────────┼────────────┼──────┼──────┼──────┼──────┼────────┤\n",
      "│ Objective │    0    │     0     │    0.2     │  0   │  0   │  0   │ -0.2 │ -1e+07 │\n",
      "╘═══════════╧═════════╧═══════════╧════════════╧══════╧══════╧══════╧══════╧════════╛\n",
      "\u001B[92mInitial tableau is optimal\u001B[0m\n",
      "Final objective Function: [0.1, 0.0, 8.0, 0.0, 0.0]\n",
      "\u001B[92mValue of the objective function: 0.2\u001B[0m\n",
      "Non-integer values: {1: 0.1}\n",
      "\u001B[0;31mProblem is not integer\u001B[0m\n",
      "Selected float: 0.1\n",
      "Selected Row2\n",
      "╒═══════════╤═════════╤═══════════╤════════════╤══════╤══════╤══════╤══════╤══════╕\n",
      "│           │  Basis  │  C_basis  │  Solution  │  x1  │  x2  │  x3  │  x4  │  x5  │\n",
      "╞═══════════╪═════════╪═══════════╪════════════╪══════╪══════╪══════╪══════╪══════╡\n",
      "│   Row1    │    3    │     0     │     8      │  0   │  5   │  1   │  1   │  0   │\n",
      "├───────────┼─────────┼───────────┼────────────┼──────┼──────┼──────┼──────┼──────┤\n",
      "│   Row2    │    1    │     2     │    0.1     │  1   │ 0.5  │  0   │ -0.1 │  0   │\n",
      "├───────────┼─────────┼───────────┼────────────┼──────┼──────┼──────┼──────┼──────┤\n",
      "│   Row3    │    5    │     0     │    -0.1    │  0   │ -0.5 │  0   │ -0.9 │  1   │\n",
      "├───────────┼─────────┼───────────┼────────────┼──────┼──────┼──────┼──────┼──────┤\n",
      "│ Objective │    0    │     0     │    0.2     │  0   │  0   │  0   │ -0.2 │  0   │\n",
      "╘═══════════╧═════════╧═══════════╧════════════╧══════╧══════╧══════╧══════╧══════╛\n",
      "Initial tableau has negative values in solution column.\n",
      "Negatives: [1 3]\n",
      "New basis is 2\n",
      "Remove basis is 5.0\n",
      "Objective Function: [0.0, 0.2, 7.0, 0.0, 0.0]\n",
      "╒═══════════╤═════════╤═══════════╤════════════╤══════╤══════╤══════╤══════╤══════╕\n",
      "│           │  Basis  │  C_basis  │  Solution  │  x1  │  x2  │  x3  │  x4  │  x5  │\n",
      "╞═══════════╪═════════╪═══════════╪════════════╪══════╪══════╪══════╪══════╪══════╡\n",
      "│   Row1    │    3    │     0     │     7      │  0   │  0   │  1   │  -8  │  10  │\n",
      "├───────────┼─────────┼───────────┼────────────┼──────┼──────┼──────┼──────┼──────┤\n",
      "│   Row2    │    1    │     2     │     0      │  1   │  0   │  0   │  -1  │  1   │\n",
      "├───────────┼─────────┼───────────┼────────────┼──────┼──────┼──────┼──────┼──────┤\n",
      "│   Row3    │    2    │     1     │    0.2     │  -0  │  1   │  -0  │ 1.8  │  -2  │\n",
      "├───────────┼─────────┼───────────┼────────────┼──────┼──────┼──────┼──────┼──────┤\n",
      "│ Objective │    0    │     0     │    0.2     │  0   │  0   │  0   │ -0.2 │  0   │\n",
      "╘═══════════╧═════════╧═══════════╧════════════╧══════╧══════╧══════╧══════╧══════╛\n",
      "Negativity is removed\n",
      "\u001B[92mInitial tableau is optimal\u001B[0m\n",
      "Non-integer values: {2: 0.2}\n",
      "\u001B[0;31mProblem is not integer\u001B[0m\n",
      "Selected float: 0.2\n",
      "Selected Row3\n",
      "╒═══════════╤═════════╤═══════════╤════════════╤══════╤══════╤══════╤══════╤══════╕\n",
      "│           │  Basis  │  C_basis  │  Solution  │  x1  │  x2  │  x3  │  x4  │  x5  │\n",
      "╞═══════════╪═════════╪═══════════╪════════════╪══════╪══════╪══════╪══════╪══════╡\n",
      "│   Row1    │    3    │     0     │     7      │  0   │  0   │  1   │  -8  │  0   │\n",
      "├───────────┼─────────┼───────────┼────────────┼──────┼──────┼──────┼──────┼──────┤\n",
      "│   Row2    │    1    │     2     │     0      │  1   │  0   │  0   │  -1  │  0   │\n",
      "├───────────┼─────────┼───────────┼────────────┼──────┼──────┼──────┼──────┼──────┤\n",
      "│   Row3    │    2    │     1     │    0.2     │  -0  │  1   │  -0  │ 1.8  │  0   │\n",
      "├───────────┼─────────┼───────────┼────────────┼──────┼──────┼──────┼──────┼──────┤\n",
      "│   Row4    │    5    │     0     │    -0.2    │  0   │  0   │  0   │ -0.8 │  1   │\n",
      "├───────────┼─────────┼───────────┼────────────┼──────┼──────┼──────┼──────┼──────┤\n",
      "│ Objective │    0    │     0     │    0.2     │  0   │  0   │  0   │ -0.2 │  0   │\n",
      "╘═══════════╧═════════╧═══════════╧════════════╧══════╧══════╧══════╧══════╧══════╛\n",
      "Initial tableau has negative values in solution column.\n",
      "Negatives: [3]\n",
      "New basis is 4\n",
      "Remove basis is 5.0\n",
      "Objective Function: [0.25, -0.25, 9.0, 0.25, 0.0]\n",
      "╒═══════════╤═════════╤═══════════╤════════════╤══════╤══════╤══════╤══════╤═══════╕\n",
      "│           │  Basis  │  C_basis  │  Solution  │  x1  │  x2  │  x3  │  x4  │  x5   │\n",
      "╞═══════════╪═════════╪═══════════╪════════════╪══════╪══════╪══════╪══════╪═══════╡\n",
      "│   Row1    │    3    │     0     │     9      │  0   │  0   │  1   │  0   │  -10  │\n",
      "├───────────┼─────────┼───────────┼────────────┼──────┼──────┼──────┼──────┼───────┤\n",
      "│   Row2    │    1    │     2     │    0.25    │  1   │  0   │  0   │  0   │ -1.25 │\n",
      "├───────────┼─────────┼───────────┼────────────┼──────┼──────┼──────┼──────┼───────┤\n",
      "│   Row3    │    2    │     1     │   -0.25    │  0   │  1   │  0   │  0   │ 2.25  │\n",
      "├───────────┼─────────┼───────────┼────────────┼──────┼──────┼──────┼──────┼───────┤\n",
      "│   Row4    │    4    │     0     │    0.25    │  -0  │  -0  │  -0  │  1   │ -1.25 │\n",
      "├───────────┼─────────┼───────────┼────────────┼──────┼──────┼──────┼──────┼───────┤\n",
      "│ Objective │    0    │     0     │    0.25    │  0   │  0   │  0   │  0   │ -0.25 │\n",
      "╘═══════════╧═════════╧═══════════╧════════════╧══════╧══════╧══════╧══════╧═══════╛\n",
      "Initial tableau has negative values in solution column.\n",
      "Negatives: []\n",
      "No negative values in row\n"
     ]
    }
   ],
   "execution_count": 4
  },
  {
   "metadata": {},
   "cell_type": "markdown",
   "source": "## 6",
   "id": "396285d02e42f8a2"
  },
  {
   "cell_type": "code",
   "id": "21ee60e5c2859c89",
   "metadata": {},
   "source": [
    "importlib.reload(simplex)\n",
    "c = np.array([1, 2])\n",
    "a = np.array([[2, 9],\n",
    "              [1, 1]])\n",
    "b = np.array([36, 7])\n",
    "equalities = ['<=', '<=']\n",
    "max_problem = True\n",
    "\n",
    "table = simplex.simplex_method(c, a, b, equalities, max_problem, integer=True)"
   ],
   "outputs": [],
   "execution_count": null
  },
  {
   "cell_type": "markdown",
   "id": "4a8485868a6366b4",
   "metadata": {},
   "source": [
    "## 7"
   ]
  },
  {
   "cell_type": "code",
   "id": "82395903081105ce",
   "metadata": {},
   "source": [
    "importlib.reload(simplex)\n",
    "c = np.array([6, 4])\n",
    "a = np.array([[2, 1],\n",
    "              [1, -2],\n",
    "              [3, 2]])\n",
    "b = np.array([3, 2, 1])\n",
    "equalities = ['>=', '<=', '>=']\n",
    "max_problem = False\n",
    "table = simplex.simplex_method(c, a, b, equalities, max_problem, integer=True)"
   ],
   "outputs": [],
   "execution_count": null
  },
  {
   "cell_type": "markdown",
   "id": "bfb240171398c28d",
   "metadata": {},
   "source": [
    "## 8"
   ]
  },
  {
   "cell_type": "code",
   "id": "57cf949c77ee631d",
   "metadata": {},
   "source": [
    "importlib.reload(simplex)\n",
    "c = np.array([8, 2])\n",
    "a = np.array([[1, -4],\n",
    "              [-4, 1],\n",
    "              [1, 1]])\n",
    "b = np.array([4, 4, 6])\n",
    "equalities = ['<=', '<=', '<=']\n",
    "max_problem = True\n",
    "table = simplex.simplex_method(c, a, b, equalities, max_problem, integer=True)"
   ],
   "outputs": [],
   "execution_count": null
  },
  {
   "cell_type": "markdown",
   "id": "20c0d94da972314e",
   "metadata": {},
   "source": [
    "## 9"
   ]
  },
  {
   "cell_type": "code",
   "id": "6896da1bcfedac8f",
   "metadata": {},
   "source": [
    "importlib.reload(simplex)\n",
    "c = np.array([8, -6])\n",
    "a = np.array([[2, 5],\n",
    "              [4, 1]])\n",
    "b = np.array([12, 10])\n",
    "equalities = ['<=', '<=']\n",
    "max_problem = True\n",
    "table = simplex.simplex_method(c, a, b, equalities, max_problem, integer=True)"
   ],
   "outputs": [],
   "execution_count": null
  },
  {
   "cell_type": "markdown",
   "id": "15dbb6fb0b9feb43",
   "metadata": {},
   "source": [
    "## 10"
   ]
  },
  {
   "cell_type": "code",
   "id": "ce5d615c53b7c1a5",
   "metadata": {},
   "source": [
    "importlib.reload(simplex)\n",
    "c = np.array([5, 7])\n",
    "a = np.array([[-3, 4],\n",
    "              [5, -6],\n",
    "              [1, 4]])\n",
    "b = np.array([78, 26, 25])\n",
    "equalities = ['<=', '<=', '>=']\n",
    "max_problem = False\n",
    "table = simplex.simplex_method(c, a, b, equalities, max_problem, integer=True, precision=5)"
   ],
   "outputs": [],
   "execution_count": null
  },
  {
   "cell_type": "markdown",
   "id": "3acb706b66e33f6d",
   "metadata": {},
   "source": [
    "## 11"
   ]
  },
  {
   "cell_type": "code",
   "id": "bbedeff1791e9b7f",
   "metadata": {},
   "source": [
    "importlib.reload(simplex)\n",
    "c = np.array([2, 1, 0, 0, 0])\n",
    "a = np.array([[6, 4, 1, 0, 0],\n",
    "              [3, -3, 0, 1, 0],\n",
    "              [-1, 3, 0, 0, 1]])\n",
    "b = np.array([24, 9, 3])\n",
    "equalities = ['=', '=', '=']\n",
    "# non_negatives = [True, True, False, False, False]\n",
    "max_problem = True\n",
    "table = simplex.simplex_method(c, a, b, equalities, max_problem, integer=True)"
   ],
   "outputs": [],
   "execution_count": null
  },
  {
   "cell_type": "markdown",
   "id": "6c409f98e91eb2a4",
   "metadata": {},
   "source": [
    "## 12"
   ]
  },
  {
   "cell_type": "code",
   "id": "532134e7ea24803b",
   "metadata": {},
   "source": [
    "importlib.reload(simplex)\n",
    "c = np.array([20, 5])\n",
    "a = np.array([[5, 1],\n",
    "              [6, 4],\n",
    "              [1, 1]])\n",
    "b = np.array([15, 24, 5])\n",
    "equalities = ['<=', '<=', '<=']\n",
    "max_problem = True\n",
    "table = simplex.simplex_method(c, a, b, equalities, max_problem, integer=True, remove=False)"
   ],
   "outputs": [],
   "execution_count": null
  },
  {
   "cell_type": "markdown",
   "id": "23973b6a531e8bf",
   "metadata": {},
   "source": [
    "## 13"
   ]
  },
  {
   "cell_type": "code",
   "id": "5a1df13210ac29f7",
   "metadata": {},
   "source": [
    "importlib.reload(simplex)\n",
    "c = np.array([1, 2])\n",
    "a = np.array([[1, 2],\n",
    "              [4, 3]])\n",
    "b = np.array([12, 14])\n",
    "equalities = ['<=', '<=']\n",
    "max_problem = True\n",
    "table = simplex.simplex_method(c, a, b, equalities, max_problem, integer=True)"
   ],
   "outputs": [],
   "execution_count": null
  }
 ],
 "metadata": {
  "kernelspec": {
   "display_name": "Python 3 (ipykernel)",
   "language": "python",
   "name": "python3"
  },
  "language_info": {
   "codemirror_mode": {
    "name": "ipython",
    "version": 3
   },
   "file_extension": ".py",
   "mimetype": "text/x-python",
   "name": "python",
   "nbconvert_exporter": "python",
   "pygments_lexer": "ipython3",
   "version": "3.11.9"
  }
 },
 "nbformat": 4,
 "nbformat_minor": 5
}
