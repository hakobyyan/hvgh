{
 "cells": [
  {
   "cell_type": "code",
   "execution_count": 10,
   "metadata": {},
   "outputs": [
    {
     "data": {
      "text/plain": [
       "<module 'assignment_module_debug' from 'c:\\\\Users\\\\yurih\\\\Desktop\\\\Lessons\\\\hvgh\\\\assignment_module_debug.py'>"
      ]
     },
     "execution_count": 10,
     "metadata": {},
     "output_type": "execute_result"
    }
   ],
   "source": [
    "import importlib\n",
    "import assignment_module as am\n",
    "import assignment_module_debug as am_d\n",
    "importlib.reload(am)\n",
    "importlib.reload(am_d)"
   ]
  },
  {
   "cell_type": "code",
   "execution_count": 11,
   "metadata": {},
   "outputs": [],
   "source": [
    "n = 5\n",
    "Arr = [\n",
    "    4, 5, 7, 4, 6,\n",
    "    6, 6, 9, 9, 9,\n",
    "    6, 2, 4, 6, 8,\n",
    "    7, 3, 6, 9, 7,\n",
    "    2, 5, 6, 3, 7\n",
    "]\n",
    "# Arr = [7,3,6,9,5,\n",
    "#        7,5,7,5,6,\n",
    "#        7,6,8,8,9,\n",
    "#        3,1,6,5,7,\n",
    "#        2,4,9,9,5]\n",
    "# Arr = [-4, -5, -7, -4, -6, -6, -6, -9, -9, -9, -6, -2, -4, -6, -8, -7, -3, -6, -9, -7, -2, -5, -6, -3, -7]\n",
    "# Arr = [-7, -3, -6, -9, -5, -7, -5, -7, -5, -6, -7, -6, -8, -8, -9, -3, -1, -6, -5, -7, -2, -4, -9, -9, -5]"
   ]
  },
  {
   "cell_type": "code",
   "execution_count": null,
   "metadata": {},
   "outputs": [
    {
     "name": "stdout",
     "output_type": "stream",
     "text": [
      "[4, 5, 7, 4, 6, 6, 6, 9, 9, 9, 6, 2, 4, 6, 8, 7, 3, 6, 9, 7, 2, 5, 6, 3, 7]\n",
      "\n",
      "[1, 2, 1, 0, 0]\n",
      "[0, 0, 0, 2, 0]\n",
      "[5, 1, 0, 4, 4]\n",
      "[4, 0, 0, 5, 1]\n",
      "[0, 3, 1, 0, 2]\n",
      "\n",
      "[OutSource] Selected Indices:\n",
      "[3 4 2 1 0]\n",
      "\n",
      "[OutSource] Selected Costs:\n",
      "4 + 9 + 4 + 3 + 2 = 22\n"
     ]
    }
   ],
   "source": [
    "sol = am.solve_assignment_problem(n, Arr)"
   ]
  },
  {
   "cell_type": "code",
   "execution_count": null,
   "metadata": {},
   "outputs": [],
   "source": []
  }
 ],
 "metadata": {
  "kernelspec": {
   "display_name": "Python 3",
   "language": "python",
   "name": "python3"
  },
  "language_info": {
   "codemirror_mode": {
    "name": "ipython",
    "version": 3
   },
   "file_extension": ".py",
   "mimetype": "text/x-python",
   "name": "python",
   "nbconvert_exporter": "python",
   "pygments_lexer": "ipython3",
   "version": "3.11.8"
  }
 },
 "nbformat": 4,
 "nbformat_minor": 2
}
