{
 "cells": [
  {
   "metadata": {
    "ExecuteTime": {
     "end_time": "2025-03-29T17:27:37.951704Z",
     "start_time": "2025-03-29T17:27:37.946944Z"
    }
   },
   "cell_type": "code",
   "source": [
    "import sys\n",
    "import numpy as np\n",
    "from tabulate import tabulate\n",
    "from IPython.display import display, Math"
   ],
   "id": "1c64c9f06f37bfce",
   "outputs": [],
   "execution_count": 29
  },
  {
   "metadata": {
    "ExecuteTime": {
     "end_time": "2025-03-29T17:27:37.996347Z",
     "start_time": "2025-03-29T17:27:37.982002Z"
    }
   },
   "cell_type": "code",
   "source": [
    "class TripleDict:\n",
    "    def __init__(self, header=None):\n",
    "        self._store = []\n",
    "        self.header = header if header else [\"Key\", \"Value 1\", \"Value 2\"]\n",
    "\n",
    "    def add(self, key, value1, value2):\n",
    "        \"\"\"Adds a new entry, allowing duplicate keys.\"\"\"\n",
    "        self._store.append((key, value1, value2))\n",
    "\n",
    "    def items(self):\n",
    "        \"\"\"Returns the stored data as a list of tuples.\"\"\"\n",
    "        return self._store\n",
    "\n",
    "    def print_as_table(self):\n",
    "        \"\"\"Prints the stored data in a table format.\"\"\"\n",
    "        print(tabulate(self._store, headers=self.header, tablefmt=\"fancy_grid\"))\n",
    "\n",
    "    def __repr__(self):\n",
    "        \"\"\"Represents the TripleDict contents.\"\"\"\n",
    "        return f\"TripleDict({self._store})\""
   ],
   "id": "7ff840e23dd81dc7",
   "outputs": [],
   "execution_count": 30
  },
  {
   "metadata": {
    "ExecuteTime": {
     "end_time": "2025-03-29T17:27:38.576864Z",
     "start_time": "2025-03-29T17:27:38.011775Z"
    }
   },
   "cell_type": "code",
   "source": [
    "# Constants\n",
    "OUTPUT_FILE_PATH = 'Manukyan_Version___________.txt'\n",
    "OUTPUT_ENCODING = 'utf-8'\n",
    "TABLE_FORMAT = \"fancy_grid\"\n",
    "FLOAT_FORMAT = \".2f\"\n",
    "\n",
    "\n",
    "def compute_revenue_values(R, alpha, n, C):\n",
    "    revenue_values = np.zeros((n, C + 1))\n",
    "    for i in range(n):\n",
    "        for x in range(1, C + 1):\n",
    "            revenue_values[i, x] = R[i] * (1-(1 - np.exp(-alpha[i] / x)) ** x)\n",
    "    return revenue_values\n",
    "\n",
    "def print_table(data, headers, title):\n",
    "    \"\"\"Print table with proper formatting.\"\"\"\n",
    "    print(title)\n",
    "    print(tabulate(data, headers=headers, tablefmt=TABLE_FORMAT, floatfmt=FLOAT_FORMAT))\n",
    "\n",
    "\n",
    "def solve_resource_allocation(R, alpha, C, n):\n",
    "    revenue_values = compute_revenue_values(R, alpha, n, C)\n",
    "    dp = np.zeros((n + 1, C + 1))\n",
    "    allocation = np.zeros((n + 1, C + 1), dtype=int)\n",
    "\n",
    "    revenue_table = [[f\"i={i + 1}\"] + list(revenue_values[i, :]) for i in range(n)]\n",
    "    headers = [\"Prod\\\\Res\"] + [f\"c={j}\" for j in range(C + 1)]\n",
    "    print_table(revenue_table, headers, \"Revenue Table:\")\n",
    "\n",
    "    data = []\n",
    "    for i in range(1, n + 1):\n",
    "        dt = TripleDict([f\"Z={i}\", f\"fi_{i}(z_{i})\", f\"X_{i}\"])\n",
    "        print(f\"\\nProcessing product {i}...\")\n",
    "        for c in range(C + 1):\n",
    "            dp[i, c] = dp[i - 1, c]  # Default initialization\n",
    "            if c > 0:\n",
    "                values = [(dp[i - 1, c - x] + revenue_values[i - 1][x], x) for x in range(1, c + 1)]\n",
    "                first_values = [(float(value))for value, x in values]  # Extract only the values\n",
    "                dp[i, c], allocation[i, c] = max(values, key=lambda pair: pair[0])\n",
    "                if max(c + 1, 5) > 10:\n",
    "                    for x in range(1, min(c + 1, 5)):\n",
    "                        print(f\"             {float(revenue_values[i - 1][x])} + {dp[i - 1, c - x]}\")\n",
    "                    print(f\"  Fi({c})=max(.....................................................) = {dp[i, c]}\")\n",
    "                    for x in range(c+1 - min(c+1, 5), c + 1):\n",
    "                        print(f\"             {float(revenue_values[i - 1][x])} + {dp[i - 1, c - x]}\")\n",
    "                else:\n",
    "                    print(f\"  Fi({c}=max(\")\n",
    "                    for x in range(1, c + 1):\n",
    "                        print(f\"             {float(revenue_values[i - 1][x])} + {dp[i - 1, c - x]}\")\n",
    "                    print(f\"  = {dp[i, c]}\")\n",
    "                latex_content = r\"\"\"\n",
    "\\documentclass{article}\n",
    "\\usepackage{amsmath}\n",
    "\\begin{document}\n",
    "\n",
    "\\[\n",
    "\\varphi_1(400) = \\max \\left\\{\"\"\" + \"\\n \".join(map(str, first_values)) + r\"\"\"\\right\\} = \"\"\" + str(dp[i, c]) + r\"\"\"\n",
    "\\]\n",
    "\n",
    "\\end{document}\n",
    "\"\"\"\n",
    "                with open(\"latex_output.tex\", \"w\") as f:\n",
    "                    f.write(latex_content)\n",
    "                print(f\"  z = ({c}) | fi({c})={dp[i, c]} | X={allocation[i, c]}\")\n",
    "            dt.add(c, round(dp[i, c], 2), allocation[i, c])\n",
    "        data.append(dt)\n",
    "\n",
    "\n",
    "    # Print DP table for verification\n",
    "    dp_table = [[f\"i={i}\"] + list(dp[i, :]) for i in range(1, n + 1)]\n",
    "    print_table(dp_table, headers, \"DP Table:\")\n",
    "\n",
    "    # Print allocation table\n",
    "    allocation_table = [[f\"i={i}\"] + list(row[:]) for i, row in enumerate(allocation) if i > 0]\n",
    "    print_table(allocation_table, headers, \"Allocation Table:\")\n",
    "\n",
    "    # Backtrack optimal allocation\n",
    "    optimal_allocation = np.zeros(n, dtype=int)\n",
    "    remaining_resources = C\n",
    "    for i in range(n, 0, -1):\n",
    "        optimal_allocation[i - 1] = allocation[i, remaining_resources]\n",
    "        remaining_resources -= optimal_allocation[i - 1]\n",
    "\n",
    "    # Compute final revenue\n",
    "    optimal_revenue = dp[n, C]\n",
    "    return optimal_allocation, optimal_revenue, data\n",
    "def print_results(optimal_allocation, R, alpha, C, max_revenue):\n",
    "    \"\"\"Print the optimal allocation and resultant revenue.\"\"\"\n",
    "    print(\"\\nOptimal Resource Allocation:\")\n",
    "    for i, x in enumerate(optimal_allocation):\n",
    "        revenue = R[i] * (1 - np.exp(-alpha[i] * x)) ** x\n",
    "        print(f\"Customer {i + 1}: {x} resources -> Revenue: {revenue:.2f}\")\n",
    "    print(f\"Total resources used: {sum(optimal_allocation)} out of {C}\")\n",
    "    print(f\"Maximum revenue: {max_revenue:.2f}\")\n",
    "\n",
    "# Main Execution\n",
    "R = np.array([5, 4, 10, 8, 3, 7, 2, 8, 3])\n",
    "alpha = np.array([3, 4, 5.5, 3, 4.5, 2.5, 4, 5, 4.5])\n",
    "C = 36\n",
    "n = 9\n",
    "\n",
    "with open(OUTPUT_FILE_PATH, 'w', encoding=OUTPUT_ENCODING) as output_file:\n",
    "    sys.stdout = output_file\n",
    "    optimal_allocation, max_revenue, data = solve_resource_allocation(R, alpha, C, n)\n",
    "    print_results(optimal_allocation, R, alpha, C, max_revenue)\n",
    "    sys.stdout = sys.__stdout__"
   ],
   "id": "68a0d0aae54c66f3",
   "outputs": [],
   "execution_count": 31
  },
  {
   "metadata": {
    "ExecuteTime": {
     "end_time": "2025-03-29T17:27:38.614374Z",
     "start_time": "2025-03-29T17:27:38.588020Z"
    }
   },
   "cell_type": "code",
   "source": [
    "with open(\"tables_Manukyan_Version.txt\", 'w', encoding=OUTPUT_ENCODING) as output_file:\n",
    "    sys.stdout = output_file\n",
    "    for dt in data:\n",
    "        dt.print_as_table()\n",
    "    sys.stdout = sys.__stdout__"
   ],
   "id": "ac52afb2dba4f30",
   "outputs": [],
   "execution_count": 32
  }
 ],
 "metadata": {
  "kernelspec": {
   "display_name": "Python 3",
   "language": "python",
   "name": "python3"
  },
  "language_info": {
   "codemirror_mode": {
    "name": "ipython",
    "version": 2
   },
   "file_extension": ".py",
   "mimetype": "text/x-python",
   "name": "python",
   "nbconvert_exporter": "python",
   "pygments_lexer": "ipython2",
   "version": "2.7.6"
  }
 },
 "nbformat": 4,
 "nbformat_minor": 5
}
